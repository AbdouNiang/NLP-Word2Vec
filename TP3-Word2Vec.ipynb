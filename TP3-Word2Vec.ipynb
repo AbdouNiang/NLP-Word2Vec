{
 "cells": [
  {
   "cell_type": "code",
   "execution_count": 1,
   "id": "2dba17d2",
   "metadata": {},
   "outputs": [],
   "source": [
    "import numpy as np\n",
    "import pandas as pd\n",
    "#from numpy.linalg import norm\n"
   ]
  },
  {
   "cell_type": "code",
   "execution_count": 2,
   "id": "02ea2231",
   "metadata": {},
   "outputs": [],
   "source": [
    "import gensim\n",
    "from gensim.test.utils import datapath, get_tmpfile\n",
    "from gensim.models import KeyedVectors\n",
    "from gensim.scripts.glove2word2vec import glove2word2vec\n",
    "from gensim.models import KeyedVectors"
   ]
  },
  {
   "cell_type": "code",
   "execution_count": 3,
   "id": "71c452c9",
   "metadata": {},
   "outputs": [],
   "source": [
    "vector_file = datapath('vectors400.txt')"
   ]
  },
  {
   "cell_type": "code",
   "execution_count": 4,
   "id": "f79d6887",
   "metadata": {},
   "outputs": [],
   "source": [
    "model = KeyedVectors.load_word2vec_format(vector_file) "
   ]
  },
  {
   "cell_type": "code",
   "execution_count": 5,
   "id": "c82761d0",
   "metadata": {},
   "outputs": [
    {
     "name": "stdout",
     "output_type": "stream",
     "text": [
      "<class 'gensim.models.keyedvectors.KeyedVectors'>\n"
     ]
    }
   ],
   "source": [
    "print(type(model))"
   ]
  },
  {
   "cell_type": "code",
   "execution_count": 6,
   "id": "0e931942",
   "metadata": {},
   "outputs": [
    {
     "data": {
      "text/plain": [
       "array([ 0.014691,  0.191984, -0.466457,  1.043902, -1.547337,  1.263197,\n",
       "       -0.811203, -1.439849,  0.430593, -1.680374, -0.374909, -1.428123,\n",
       "        0.638273,  0.280819, -1.950072,  1.431084,  0.953798, -2.894945,\n",
       "        2.01772 , -0.042713,  1.677311, -0.048193,  0.84148 , -0.734578,\n",
       "        0.816983,  0.49426 ,  0.25856 ,  1.185077,  0.251866, -0.370269,\n",
       "       -0.31874 ,  0.055083, -0.879392, -1.269159,  2.349266, -1.732149,\n",
       "       -1.445537, -1.792084,  1.855564,  2.373671,  2.299502, -0.256387,\n",
       "       -2.783166,  0.487413, -0.378265, -0.716556,  0.353604, -2.077949,\n",
       "        0.137418,  1.271399,  1.611049, -0.150958,  0.468912,  0.793245,\n",
       "       -1.524353, -0.080427,  0.716941,  0.117837,  0.73861 ,  1.413683,\n",
       "        1.089912, -2.323204, -0.7886  , -0.344267,  0.179383,  0.313424,\n",
       "        4.267456,  0.399836, -0.913734, -0.828883, -0.727241,  1.464846,\n",
       "        1.813118,  2.402682, -1.800664,  0.355041, -1.673642,  1.030192,\n",
       "       -0.308015, -0.694097, -0.828113,  2.294739,  0.166014,  0.701335,\n",
       "       -0.124428,  1.123718, -2.708327,  0.168967, -0.889815,  0.082442,\n",
       "        2.950458, -0.073743,  0.856962,  0.047501, -2.257169,  1.737888,\n",
       "        0.858273, -0.015737,  1.831224,  0.443959, -1.021196, -1.711626,\n",
       "        0.014427,  2.203674, -2.26156 , -0.379315, -2.825298,  0.287668,\n",
       "        2.147575,  0.875184,  0.75694 ,  2.038783,  2.021142,  0.142588,\n",
       "        2.301742,  1.693925,  0.316757, -1.327556, -2.012949,  0.11544 ,\n",
       "        0.509239,  3.977164,  1.120042,  1.250365,  1.322624,  0.47191 ,\n",
       "        0.809009,  0.173377, -2.771815,  0.926271, -1.825841,  0.457585,\n",
       "       -2.50115 ,  1.876068, -2.747027,  0.247931, -0.918624,  4.327593,\n",
       "        1.565208, -0.460396, -3.757329,  0.197596, -2.009343, -2.353202,\n",
       "       -0.140401,  0.925317, -1.345967,  0.286534, -1.090766,  2.150915,\n",
       "       -0.18741 , -1.460993,  1.152993,  0.111436,  2.947302,  0.291566,\n",
       "       -0.072654,  1.840163, -4.110377, -0.499257,  2.689277, -1.267539,\n",
       "       -1.374043, -0.244359,  1.569582,  0.249599,  0.462805, -2.001157,\n",
       "        2.130499,  1.194525, -0.097353, -0.701804, -0.171975,  1.063467,\n",
       "        1.225802,  0.716949, -1.875915,  3.467979, -1.199902,  4.33951 ,\n",
       "        0.708866, -0.634282, -1.191999, -0.899987,  0.900601, -0.769985,\n",
       "       -1.571755, -0.682793,  1.13351 ,  3.070365, -0.239724,  2.130783,\n",
       "        0.305067,  2.017423,  1.597862, -2.100388,  0.222924,  1.095974,\n",
       "        1.602107,  0.059453,  2.648091, -0.569639, -1.041824, -1.23674 ,\n",
       "        0.199867,  0.553683,  0.299958, -1.696651,  0.819838, -0.269704,\n",
       "        3.673527, -2.237297, -0.580319,  0.292964, -0.384298,  0.644639,\n",
       "        0.066432,  0.160644,  0.431883, -0.755542,  1.795696,  0.793121,\n",
       "        1.014515, -0.45653 , -0.906844, -0.970078, -0.735363,  0.236372,\n",
       "        0.671924,  1.938834, -0.562135, -0.742452, -2.471824,  1.831859,\n",
       "        2.469101,  2.032885,  2.560167, -0.470403, -0.52856 , -1.541914,\n",
       "       -0.837508, -1.812249,  0.119817,  0.16153 ,  0.70114 , -0.46311 ,\n",
       "        1.24187 ,  1.196138,  0.696382, -0.005525,  3.169456,  0.813249,\n",
       "       -0.800088,  0.723112, -0.144755, -1.860364,  0.347446, -3.914809,\n",
       "        1.604536, -1.948842, -1.194032, -0.924748,  3.738857, -1.217097,\n",
       "        0.562178,  3.131659, -0.050513, -1.424484,  3.161047,  0.16203 ,\n",
       "       -3.277497,  1.874175, -1.878278, -0.51437 , -0.038371, -2.722416,\n",
       "       -2.412096, -3.732915, -0.682807,  1.069165, -0.941322, -0.674799,\n",
       "        1.679815, -1.098335, -2.888831, -1.435552, -0.56381 , -1.643124,\n",
       "       -2.525813, -2.070903,  0.160353,  0.792375, -1.273755, -0.93565 ,\n",
       "       -1.402022, -3.407911,  0.91239 ,  2.459096,  0.718627,  2.879216,\n",
       "       -0.601652,  0.875977, -0.964891,  0.515666,  0.085885,  0.902112,\n",
       "       -1.372109, -1.108442, -1.310492,  3.535053,  2.422981,  0.437188,\n",
       "        1.984682, -0.875439,  0.387069, -0.017996,  2.590286, -0.381052,\n",
       "       -2.043543,  0.941978,  1.836385,  0.516291,  1.880143,  0.226183,\n",
       "       -0.499513, -1.861083, -1.918215, -1.16925 ,  1.331263,  0.501259,\n",
       "        0.831948,  0.34621 , -0.287305,  2.936196,  0.073823,  0.278465,\n",
       "        2.416311,  2.787721,  3.041667,  2.564414,  0.28649 , -0.096896,\n",
       "        2.264822, -1.892089, -0.654392, -0.951307,  0.153302, -2.244669,\n",
       "       -0.080474, -1.960472, -0.856982,  0.583759, -0.460161, -1.658449,\n",
       "       -1.444588, -1.475697,  1.949808,  1.386056, -2.226745, -2.390832,\n",
       "       -1.677459, -1.422324,  0.429691, -1.792064, -0.48233 ,  1.122764,\n",
       "       -2.263931,  1.361364,  2.616802, -0.795474, -2.5902  ,  0.862478,\n",
       "        2.468927, -0.061949,  0.960504,  2.045964,  0.678631, -0.492323,\n",
       "       -0.87656 , -0.723862, -0.332033,  1.853961,  0.70223 ,  0.788276,\n",
       "        0.05737 , -0.732044, -1.744408, -3.901975, -1.02749 ,  1.601152,\n",
       "        1.086962, -0.050933, -3.229665,  0.135414, -1.544795,  0.810389,\n",
       "       -2.198515,  1.608696, -1.061635, -0.573735], dtype=float32)"
      ]
     },
     "execution_count": 6,
     "metadata": {},
     "output_type": "execute_result"
    }
   ],
   "source": [
    "model['hello']"
   ]
  },
  {
   "cell_type": "code",
   "execution_count": 7,
   "id": "f818796f",
   "metadata": {},
   "outputs": [
    {
     "data": {
      "text/plain": [
       "[('won', 0.4950941503047943),\n",
       " ('winning', 0.4623490571975708),\n",
       " ('pfa', 0.4469846785068512),\n",
       " ('tournament', 0.438751757144928),\n",
       " ('wins', 0.43707266449928284),\n",
       " ('goalscorer', 0.4362877905368805),\n",
       " ('undefeated', 0.4307003617286682),\n",
       " ('copa', 0.42405736446380615),\n",
       " ('midfielder', 0.4087742865085602),\n",
       " ('championship', 0.408059686422348)]"
      ]
     },
     "execution_count": 7,
     "metadata": {},
     "output_type": "execute_result"
    }
   ],
   "source": [
    "#model.most_similar([\"best\",\"football\"],[\"france\",\"win\"])\n",
    "model.most_similar([\"best\",\"football\",\"france\",\"win\"])\n"
   ]
  },
  {
   "cell_type": "code",
   "execution_count": 8,
   "id": "767590be",
   "metadata": {},
   "outputs": [
    {
     "data": {
      "text/plain": [
       "[('pancakes', 0.44406259059906006),\n",
       " ('garnish', 0.4310971796512604),\n",
       " ('diaeresis', 0.4090222418308258),\n",
       " ('candied', 0.40708065032958984),\n",
       " ('puree', 0.40515878796577454),\n",
       " ('pentyl', 0.40278443694114685),\n",
       " ('cedilla', 0.4003411531448364),\n",
       " ('desserts', 0.4003259539604187),\n",
       " ('savoury', 0.39990460872650146),\n",
       " ('tamarind', 0.3925629258155823)]"
      ]
     },
     "execution_count": 8,
     "metadata": {},
     "output_type": "execute_result"
    }
   ],
   "source": [
    "model.most_similar([\"apple\",\"mousse\",\"macron\"])"
   ]
  },
  {
   "cell_type": "code",
   "execution_count": 12,
   "id": "3a63f99c",
   "metadata": {},
   "outputs": [
    {
     "data": {
      "text/plain": [
       "[('queen', 0.47791653871536255)]"
      ]
     },
     "execution_count": 12,
     "metadata": {},
     "output_type": "execute_result"
    }
   ],
   "source": [
    "model.most_similar(positive=['king', 'woman'], negative=['man'],topn=1)"
   ]
  },
  {
   "cell_type": "code",
   "execution_count": 13,
   "id": "52cb6bcf",
   "metadata": {},
   "outputs": [
    {
     "data": {
      "text/plain": [
       "[('france', 0.4717864990234375)]"
      ]
     },
     "execution_count": 13,
     "metadata": {},
     "output_type": "execute_result"
    }
   ],
   "source": [
    "model.most_similar(positive=['greece', 'paris'], negative=['athens'],topn=1)"
   ]
  },
  {
   "cell_type": "code",
   "execution_count": 14,
   "id": "a227fba9",
   "metadata": {},
   "outputs": [
    {
     "data": {
      "text/plain": [
       "[('spain', 0.4578908681869507)]"
      ]
     },
     "execution_count": 14,
     "metadata": {},
     "output_type": "execute_result"
    }
   ],
   "source": [
    "model.most_similar(positive=['germany', 'madrid'], negative=['berlin'],topn=1)"
   ]
  },
  {
   "cell_type": "code",
   "execution_count": 15,
   "id": "4ea84816",
   "metadata": {},
   "outputs": [
    {
     "data": {
      "text/plain": [
       "[('daughter', 0.5680355429649353)]"
      ]
     },
     "execution_count": 15,
     "metadata": {},
     "output_type": "execute_result"
    }
   ],
   "source": [
    "model.most_similar(positive=['woman', 'son'], negative=['man'],topn=1)"
   ]
  },
  {
   "cell_type": "code",
   "execution_count": 16,
   "id": "5f6c2292",
   "metadata": {},
   "outputs": [
    {
     "data": {
      "text/plain": [
       "[('increases', 0.37797775864601135)]"
      ]
     },
     "execution_count": 16,
     "metadata": {},
     "output_type": "execute_result"
    }
   ],
   "source": [
    "model.most_similar(positive=['writes', 'decrease'], negative=['write'],topn=1)"
   ]
  },
  {
   "cell_type": "code",
   "execution_count": 17,
   "id": "dba3a38a",
   "metadata": {},
   "outputs": [
    {
     "data": {
      "text/plain": [
       "[('she', 0.4479946494102478)]"
      ]
     },
     "execution_count": 17,
     "metadata": {},
     "output_type": "execute_result"
    }
   ],
   "source": [
    "model.most_similar(positive=['woman', 'husband'], negative=['man'],topn=1)"
   ]
  },
  {
   "cell_type": "code",
   "execution_count": 18,
   "id": "26b9fee0",
   "metadata": {},
   "outputs": [
    {
     "data": {
      "text/plain": [
       "[('lombardy', 0.44530612230300903)]"
      ]
     },
     "execution_count": 18,
     "metadata": {},
     "output_type": "execute_result"
    }
   ],
   "source": [
    "model.most_similar(positive=['italy', 'hamburger'], negative=['us'],topn=1)"
   ]
  },
  {
   "cell_type": "code",
   "execution_count": 19,
   "id": "8718e0d8",
   "metadata": {},
   "outputs": [
    {
     "data": {
      "text/plain": [
       "[('tasmania', 0.425588995218277)]"
      ]
     },
     "execution_count": 19,
     "metadata": {},
     "output_type": "execute_result"
    }
   ],
   "source": [
    "model.most_similar(positive=['australia', 'hamburger'], negative=['us'],topn=1)"
   ]
  },
  {
   "cell_type": "code",
   "execution_count": null,
   "id": "77419588",
   "metadata": {},
   "outputs": [],
   "source": []
  }
 ],
 "metadata": {
  "kernelspec": {
   "display_name": "Python 3 (ipykernel)",
   "language": "python",
   "name": "python3"
  },
  "language_info": {
   "codemirror_mode": {
    "name": "ipython",
    "version": 3
   },
   "file_extension": ".py",
   "mimetype": "text/x-python",
   "name": "python",
   "nbconvert_exporter": "python",
   "pygments_lexer": "ipython3",
   "version": "3.9.12"
  }
 },
 "nbformat": 4,
 "nbformat_minor": 5
}
